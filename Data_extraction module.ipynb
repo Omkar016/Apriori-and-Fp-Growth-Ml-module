{
 "cells": [
  {
   "cell_type": "code",
   "execution_count": 1,
   "id": "d99e106d-788c-425f-a5a1-85adf85cd780",
   "metadata": {},
   "outputs": [
    {
     "name": "stdout",
     "output_type": "stream",
     "text": [
      "Requirement already satisfied: schedule in c:\\users\\omkar maurya\\appdata\\local\\programs\\python\\python312\\lib\\site-packages (1.2.2)\n",
      "Note: you may need to restart the kernel to use updated packages.\n"
     ]
    }
   ],
   "source": [
    "pip install schedule"
   ]
  },
  {
   "cell_type": "code",
   "execution_count": 1,
   "id": "87d1d601-83e3-47d5-8280-018b1f3fb949",
   "metadata": {},
   "outputs": [
    {
     "name": "stdout",
     "output_type": "stream",
     "text": [
      "Requirement already satisfied: requests in c:\\users\\omkar maurya\\appdata\\local\\programs\\python\\python312\\lib\\site-packages (2.32.3)Note: you may need to restart the kernel to use updated packages.\n",
      "\n",
      "Requirement already satisfied: charset-normalizer<4,>=2 in c:\\users\\omkar maurya\\appdata\\local\\programs\\python\\python312\\lib\\site-packages (from requests) (3.3.2)\n",
      "Requirement already satisfied: idna<4,>=2.5 in c:\\users\\omkar maurya\\appdata\\local\\programs\\python\\python312\\lib\\site-packages (from requests) (3.7)\n",
      "Requirement already satisfied: urllib3<3,>=1.21.1 in c:\\users\\omkar maurya\\appdata\\local\\programs\\python\\python312\\lib\\site-packages (from requests) (2.2.2)\n",
      "Requirement already satisfied: certifi>=2017.4.17 in c:\\users\\omkar maurya\\appdata\\local\\programs\\python\\python312\\lib\\site-packages (from requests) (2024.7.4)\n"
     ]
    },
    {
     "name": "stderr",
     "output_type": "stream",
     "text": [
      "\n",
      "[notice] A new release of pip is available: 24.2 -> 24.3.1\n",
      "[notice] To update, run: python.exe -m pip install --upgrade pip\n"
     ]
    }
   ],
   "source": [
    "pip install requests"
   ]
  },
  {
   "cell_type": "code",
   "execution_count": null,
   "id": "f41e7200-1382-49fd-b698-2829dc79cef0",
   "metadata": {},
   "outputs": [],
   "source": [
    "import requests\n",
    "import json\n",
    "import schedule\n",
    "import time\n",
    "\n",
    "def pull_currency_data(site_url, apikey, file_name):\n",
    "    \"\"\"\n",
    "    :param site_url: URL to which requests get should hit\n",
    "    :param apikey: Key from your account\n",
    "    :param file_name: location and file name where output should be saved/appended\n",
    "    \"\"\"\n",
    "    data = requests.get(url=site_url + apikey)\n",
    "    currency = json.loads(data.content)\n",
    "    \n",
    "    # Prepare the output line\n",
    "    output = data.headers['Date'] + '|' + '1' + '|' + str(currency['USD']) + '|' + str(currency['JPY']) + '|' + \\\n",
    "             str(currency['EUR']) + '\\n'\n",
    "    \n",
    "    with open(file_name, \"a\") as file:\n",
    "        file.write(output)\n",
    "\n",
    "key = '5645103c3150a97f208522e6556c7815022e017e4714fb15168f1fe58df4d87f'\n",
    "url = 'https://min-api.cryptocompare.com/data/price?fsym=BTC&tsyms=USD,JPY,EUR&api_key='\n",
    "\n",
    "file_name = r\"C:\\\\Users\\\\omkar maurya\\\\Python-ML\\\\currency_extract.csv\"\n",
    "\n",
    "schedule.every(30).seconds.do(pull_currency_data, url, key, file_name)\n",
    "\n",
    "# Run in loop to extract data every 30 seconds\n",
    "while True:\n",
    "    schedule.run_pending()\n",
    "    time.sleep(1)\n"
   ]
  },
  {
   "cell_type": "code",
   "execution_count": null,
   "id": "7bcd1fd2-39af-46fe-9f7e-c20fd76abb69",
   "metadata": {},
   "outputs": [],
   "source": []
  },
  {
   "cell_type": "code",
   "execution_count": null,
   "id": "dc6f6b90-7ce9-472b-b80c-c898302076ce",
   "metadata": {},
   "outputs": [],
   "source": []
  }
 ],
 "metadata": {
  "kernelspec": {
   "display_name": "Python 3 (ipykernel)",
   "language": "python",
   "name": "python3"
  },
  "language_info": {
   "codemirror_mode": {
    "name": "ipython",
    "version": 3
   },
   "file_extension": ".py",
   "mimetype": "text/x-python",
   "name": "python",
   "nbconvert_exporter": "python",
   "pygments_lexer": "ipython3",
   "version": "3.12.5"
  }
 },
 "nbformat": 4,
 "nbformat_minor": 5
}
